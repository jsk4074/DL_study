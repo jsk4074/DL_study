{
  "nbformat": 4,
  "nbformat_minor": 0,
  "metadata": {
    "colab": {
      "name": "Activation Funtions.ipynb",
      "provenance": [],
      "collapsed_sections": [],
      "authorship_tag": "ABX9TyOLqBJpZJoykVsFpZPkwk01"
    },
    "kernelspec": {
      "name": "python3",
      "display_name": "Python 3"
    }
  },
  "cells": [
    {
      "cell_type": "code",
      "metadata": {
        "id": "P6xXyDwURlIt",
        "colab_type": "code",
        "colab": {}
      },
      "source": [
        "#import matplotlib as plt\n",
        "import matplotlib.pyplot as plt \n",
        "import numpy as np\n",
        "import math "
      ],
      "execution_count": 0,
      "outputs": []
    },
    {
      "cell_type": "markdown",
      "metadata": {
        "id": "deHFvkU6ZDLl",
        "colab_type": "text"
      },
      "source": [
        "**Step**"
      ]
    },
    {
      "cell_type": "code",
      "metadata": {
        "id": "vY47W4AwZBbz",
        "colab_type": "code",
        "colab": {}
      },
      "source": [
        "#cannot read numpy\n",
        "def step(x):\n",
        "    if x > 0:\n",
        "        return 1\n",
        "    else:\n",
        "        return 0"
      ],
      "execution_count": 0,
      "outputs": []
    },
    {
      "cell_type": "code",
      "metadata": {
        "id": "ZFglpCqqZa4V",
        "colab_type": "code",
        "colab": {}
      },
      "source": [
        "def step(x):\n",
        "    y = x > 0\n",
        "    return y.astype(np.int)"
      ],
      "execution_count": 0,
      "outputs": []
    },
    {
      "cell_type": "code",
      "metadata": {
        "id": "BKfho8qBaObP",
        "colab_type": "code",
        "colab": {
          "base_uri": "https://localhost:8080/",
          "height": 265
        },
        "outputId": "6d4bbea5-f8f6-43ac-b4d9-3148005a60c5"
      },
      "source": [
        "x = np.arange(-5.0, 5.0, 0.1)\n",
        "y = step(x)\n",
        "plt.plot(x,y)\n",
        "plt.ylim(-0.1,1.1)\n",
        "plt.show()"
      ],
      "execution_count": 50,
      "outputs": [
        {
          "output_type": "display_data",
          "data": {
            "image/png": "[encoded data removed]",
            "text/plain": [
              "<Figure size 432x288 with 1 Axes>"
            ]
          },
          "metadata": {
            "tags": []
          }
        }
      ]
    },
    {
      "cell_type": "markdown",
      "metadata": {
        "id": "jgGVKFdERpJk",
        "colab_type": "text"
      },
      "source": [
        "**Sigmoid**"
      ]
    },
    {
      "cell_type": "code",
      "metadata": {
        "id": "0VYs2fxeRtwv",
        "colab_type": "code",
        "colab": {
          "base_uri": "https://localhost:8080/",
          "height": 265
        },
        "outputId": "4cf97bbd-e5f0-4dd1-af30-9b7f63dc6e02"
      },
      "source": [
        "def sigmoid(x):\n",
        "    return 1/(1 + np.exp(-x))\n",
        "\n",
        "x = np.arange(-5.0, 5.0, 0.1) \n",
        "y = sigmoid(x)\n",
        "plt.plot(x,y)\n",
        "plt.ylim(-0.1,1.1)\n",
        "plt.show()"
      ],
      "execution_count": 44,
      "outputs": [
        {
          "output_type": "display_data",
          "data": {
            "image/png": "[encoded data removed]",
            "text/plain": [
              "<Figure size 432x288 with 1 Axes>"
            ]
          },
          "metadata": {
            "tags": []
          }
        }
      ]
    },
    {
      "cell_type": "code",
      "metadata": {
        "id": "P-St_D_hWIr4",
        "colab_type": "code",
        "colab": {
          "base_uri": "https://localhost:8080/",
          "height": 265
        },
        "outputId": "2945db8e-518f-447d-a3bd-ec96238674d3"
      },
      "source": [
        "x = np.linspace(-10, 10, 100) \n",
        "z = 1/(1 + np.exp(-x)) \n",
        "  \n",
        "plt.plot(x, z)\n",
        "  \n",
        "plt.show() "
      ],
      "execution_count": 41,
      "outputs": [
        {
          "output_type": "display_data",
          "data": {
            "image/png": "[encoded data removed]",
            "text/plain": [
              "<Figure size 432x288 with 1 Axes>"
            ]
          },
          "metadata": {
            "tags": []
          }
        }
      ]
    },
    {
      "cell_type": "markdown",
      "metadata": {
        "id": "a8yDLCskajrJ",
        "colab_type": "text"
      },
      "source": [
        "**ReLU**"
      ]
    },
    {
      "cell_type": "code",
      "metadata": {
        "id": "kvhDzEviaz6J",
        "colab_type": "code",
        "colab": {
          "base_uri": "https://localhost:8080/",
          "height": 265
        },
        "outputId": "673076b8-668f-436e-81f9-72a4a90a2dc2"
      },
      "source": [
        "def relu(x):\n",
        "    return np.maximum(0,x)\n",
        "\n",
        "x = np.arange(-5.0, 5.0, 0.1) \n",
        "y = relu(x)\n",
        "plt.plot(x,y)\n",
        "plt.ylim(-0.5,5.1)\n",
        "plt.show()"
      ],
      "execution_count": 58,
      "outputs": [
        {
          "output_type": "display_data",
          "data": {
            "image/png": "[encoded data removed]",
            "text/plain": [
              "<Figure size 432x288 with 1 Axes>"
            ]
          },
          "metadata": {
            "tags": []
          }
        }
      ]
    }
  ]
}